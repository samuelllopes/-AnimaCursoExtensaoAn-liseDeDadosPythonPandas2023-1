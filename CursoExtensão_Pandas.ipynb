{
  "nbformat": 4,
  "nbformat_minor": 0,
  "metadata": {
    "colab": {
      "provenance": [],
      "authorship_tag": "ABX9TyP0+Usa3DY8o3sb/JmyV+IY",
      "include_colab_link": true
    },
    "kernelspec": {
      "name": "python3",
      "display_name": "Python 3"
    },
    "language_info": {
      "name": "python"
    }
  },
  "cells": [
    {
      "cell_type": "markdown",
      "metadata": {
        "id": "view-in-github",
        "colab_type": "text"
      },
      "source": [
        "<a href=\"https://colab.research.google.com/github/samuelllopes/AnimaCursoExtensaoAnalisedeDadosPythonPandas-2023-1/blob/main/CursoExtens%C3%A3o_Pandas.ipynb\" target=\"_parent\"><img src=\"https://colab.research.google.com/assets/colab-badge.svg\" alt=\"Open In Colab\"/></a>"
      ]
    },
    {
      "cell_type": "markdown",
      "source": [
        "Aula de Análise de Dados com Python Pandas - 06/02/2023 and 10/02/2023"
      ],
      "metadata": {
        "id": "hFQgfearUtEU"
      }
    },
    {
      "cell_type": "code",
      "source": [
        "import pandas as pd\n",
        "\n",
        "combustiveis_df = pd.read_excel(\"ca-2021-02.xlsx\")"
      ],
      "metadata": {
        "id": "FPZUILykUjID"
      },
      "execution_count": 2,
      "outputs": []
    },
    {
      "cell_type": "code",
      "source": [
        "display(combustiveis_df)"
      ],
      "metadata": {
        "id": "SEuuOcjNBBhZ"
      },
      "execution_count": null,
      "outputs": []
    },
    {
      "cell_type": "markdown",
      "source": [
        "mostrar quantidade de colunas"
      ],
      "metadata": {
        "id": "8NLn5eRZQrqM"
      }
    },
    {
      "cell_type": "code",
      "source": [
        "display(combustiveis_df.head(25))"
      ],
      "metadata": {
        "id": "eYoLKSLZBv2T"
      },
      "execution_count": null,
      "outputs": []
    },
    {
      "cell_type": "markdown",
      "source": [
        "Informação de colunas x linhas"
      ],
      "metadata": {
        "id": "MQNQRCxzQyQZ"
      }
    },
    {
      "cell_type": "code",
      "source": [
        "display(combustiveis_df.shape)"
      ],
      "metadata": {
        "id": "HzLzpQMDC1WR"
      },
      "execution_count": null,
      "outputs": []
    },
    {
      "cell_type": "markdown",
      "source": [
        "info do dataframe"
      ],
      "metadata": {
        "id": "Io0UHTk7QlwZ"
      }
    },
    {
      "cell_type": "code",
      "source": [
        "display(combustiveis_df.info())"
      ],
      "metadata": {
        "id": "v2MUdfjnN1jh"
      },
      "execution_count": null,
      "outputs": []
    },
    {
      "cell_type": "markdown",
      "source": [
        "Min descrição dos valores"
      ],
      "metadata": {
        "id": "2J3XelLqQjpI"
      }
    },
    {
      "cell_type": "code",
      "source": [
        "display(combustiveis_df.describe())"
      ],
      "metadata": {
        "id": "hPP2Hp1tDOAp"
      },
      "execution_count": null,
      "outputs": []
    },
    {
      "cell_type": "markdown",
      "source": [
        "Mostrar apenas uma coluna "
      ],
      "metadata": {
        "id": "STIw0zWJQc99"
      }
    },
    {
      "cell_type": "code",
      "source": [
        "revenda = combustiveis_df['Revenda']\n",
        "display(revenda)"
      ],
      "metadata": {
        "id": "ATMKtzvLGjp0"
      },
      "execution_count": null,
      "outputs": []
    },
    {
      "cell_type": "markdown",
      "source": [
        "Filtrar apenas colunas"
      ],
      "metadata": {
        "id": "HFzcouGpQa2L"
      }
    },
    {
      "cell_type": "code",
      "source": [
        "prod_df = combustiveis_df[['Revenda' , 'Municipio' , 'Produto' , 'Valor de Venda']]\n",
        "display(prod_df)"
      ],
      "metadata": {
        "id": "lMWOiVMDJV2I"
      },
      "execution_count": null,
      "outputs": []
    },
    {
      "cell_type": "markdown",
      "source": [
        "motrar só linhas 1380:1400"
      ],
      "metadata": {
        "id": "ocGvYpvwQYOu"
      }
    },
    {
      "cell_type": "code",
      "source": [
        "display(prod_df.loc[1380:1400])"
      ],
      "metadata": {
        "id": "38iXVoNObvtN"
      },
      "execution_count": null,
      "outputs": []
    },
    {
      "cell_type": "markdown",
      "source": [
        "filtrar 1:100 linhas por gasolina"
      ],
      "metadata": {
        "id": "0v-sX2jDQUJk"
      }
    },
    {
      "cell_type": "code",
      "source": [
        "gas_df = prod_df.loc[1:100][prod_df['Produto'] == 'GASOLINA']\n",
        "display(gas_df)"
      ],
      "metadata": {
        "id": "cgQljgYWekol"
      },
      "execution_count": null,
      "outputs": []
    },
    {
      "cell_type": "markdown",
      "source": [
        "Valor max de valor de venda"
      ],
      "metadata": {
        "id": "hH2LmFx0QQsz"
      }
    },
    {
      "cell_type": "code",
      "source": [
        "display(gas_df[['Revenda' , 'Municipio' , 'Valor de Venda']].max())"
      ],
      "metadata": {
        "id": "5BZeDGeRgkSY"
      },
      "execution_count": null,
      "outputs": []
    },
    {
      "cell_type": "markdown",
      "source": [
        "Filtrando Venda por municipio indaiatuba"
      ],
      "metadata": {
        "id": "-Alc4yHNQNro"
      }
    },
    {
      "cell_type": "code",
      "source": [
        "et_indaiatuba_df = prod_df.loc[(prod_df['Produto'] == 'ETANOL') & (prod_df['Municipio'] == 'INDAIATUBA')]\n",
        "display(et_indaiatuba_df.sort_values(by='Valor de Venda'))"
      ],
      "metadata": {
        "id": "BSToyLX4JR8N"
      },
      "execution_count": null,
      "outputs": []
    },
    {
      "cell_type": "markdown",
      "source": [
        "Média preços gasolina aditivada - Mooca SP"
      ],
      "metadata": {
        "id": "D_JpbHDHQI_a"
      }
    },
    {
      "cell_type": "code",
      "source": [
        "display(combustiveis_df.loc[(combustiveis_df['Bairro'] == 'MOOCA') & (combustiveis_df['Municipio'] == 'SAO PAULO') \n",
        "& ((combustiveis_df['Produto'] == 'GASOLINA') | (combustiveis_df['Produto'] == 'GASOLINA ADITIVADA')), ['Valor de Venda']].mean())"
      ],
      "metadata": {
        "id": "O0HBBe_HPoBM"
      },
      "execution_count": null,
      "outputs": []
    },
    {
      "cell_type": "markdown",
      "source": [
        "Médio combustiveis todo Brasil"
      ],
      "metadata": {
        "id": "JYjBdaL9EyQD"
      }
    },
    {
      "cell_type": "code",
      "source": [
        "med_por_combustivel_df = combustiveis_df[['Produto', 'Valor de Venda']].groupby(by='Produto').mean().round(2)\n",
        "display(med_por_combustivel_df)"
      ],
      "metadata": {
        "id": "PysWhtjGEGWb"
      },
      "execution_count": null,
      "outputs": []
    },
    {
      "cell_type": "markdown",
      "source": [
        "Adicionar uma coluna de valor booleano no combustiveis_df"
      ],
      "metadata": {
        "id": "EeHiPxbkCP56"
      }
    },
    {
      "cell_type": "code",
      "source": [
        "combustiveis_df['Ativo'] = True\n",
        "print(combustiveis_df.info())\n",
        "display(combustiveis_df.head())\n"
      ],
      "metadata": {
        "id": "erahkYzgA2pv"
      },
      "execution_count": null,
      "outputs": []
    },
    {
      "cell_type": "markdown",
      "source": [
        "Exportar para Excel o dataframe com etanol em Indaiatuba"
      ],
      "metadata": {
        "id": "Akv-upfEFgLK"
      }
    },
    {
      "cell_type": "code",
      "source": [
        "et_indaiatuba_df.to_excel('etanol_indaiatuba.xlsx', sheet_name='Etanol em Indaiatuba', index=False)"
      ],
      "metadata": {
        "id": "iYuhxHbNFe7e"
      },
      "execution_count": 30,
      "outputs": []
    }
  ]
}