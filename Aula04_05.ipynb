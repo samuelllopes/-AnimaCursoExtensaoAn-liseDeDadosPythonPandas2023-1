{
  "nbformat": 4,
  "nbformat_minor": 0,
  "metadata": {
    "colab": {
      "provenance": [],
      "authorship_tag": "ABX9TyOoqFaTriaf8wrj/96VYHXW",
      "include_colab_link": true
    },
    "kernelspec": {
      "name": "python3",
      "display_name": "Python 3"
    },
    "language_info": {
      "name": "python"
    }
  },
  "cells": [
    {
      "cell_type": "markdown",
      "metadata": {
        "id": "view-in-github",
        "colab_type": "text"
      },
      "source": [
        "<a href=\"https://colab.research.google.com/github/samuelllopes/AnimaCursoExtensaoAnalisedeDadosPythonPandas-2023-1/blob/main/Aula04_05.ipynb\" target=\"_parent\"><img src=\"https://colab.research.google.com/assets/colab-badge.svg\" alt=\"Open In Colab\"/></a>"
      ]
    },
    {
      "cell_type": "code",
      "source": [
        "import pandas as pd\n",
        "\n",
        "combustiveis_df = pd.read_excel(\"ca-2021-02.xlsx\")\n",
        "display(combustiveis_df.head())"
      ],
      "metadata": {
        "id": "CNHI8SrcUOZE"
      },
      "execution_count": null,
      "outputs": []
    },
    {
      "cell_type": "markdown",
      "source": [
        "Inserção simples de dado"
      ],
      "metadata": {
        "id": "9Zde3FxgUWwl"
      }
    },
    {
      "cell_type": "code",
      "source": [
        "combustiveis_df['Ativo'] = True\n",
        "\n",
        "display(combustiveis_df.head())"
      ],
      "metadata": {
        "id": "2J2nDmRJUVbi"
      },
      "execution_count": null,
      "outputs": []
    },
    {
      "cell_type": "markdown",
      "source": [
        "Criando coluna Obs melhor cidade\n"
      ],
      "metadata": {
        "id": "a6mMRvw3UpEv"
      }
    },
    {
      "cell_type": "code",
      "source": [
        "combustiveis_df['Obs'] = [\"MELHOR CIDADE\" if municipio == 'SAO PAULO' else None for municipio in combustiveis_df['Municipio']]\n",
        "display(combustiveis_df.loc[combustiveis_df['Municipio'].isin(['SAO PAULO','INDAIATUBA', 'CAMPINAS', 'SALTO']), ['Municipio', 'Obs']])"
      ],
      "metadata": {
        "id": "JKKMTeaQUlI7"
      },
      "execution_count": null,
      "outputs": []
    },
    {
      "cell_type": "markdown",
      "source": [
        "Preenchimento de coluna com acima da média e abaixo"
      ],
      "metadata": {
        "id": "eK6z5TjLY0f_"
      }
    },
    {
      "cell_type": "code",
      "source": [
        "import numpy as np\n",
        "\n",
        "combustiveis_df['Valor de Venda - Status'] = np.where(combustiveis_df['Valor de Venda'] > 6.0, 'Acima da Média','Abaixo da Média')\n",
        "display(combustiveis_df[['Valor de Venda - Status','Revenda','Valor de Venda']])"
      ],
      "metadata": {
        "id": "WU0J5ZCSW-XM"
      },
      "execution_count": null,
      "outputs": []
    },
    {
      "cell_type": "markdown",
      "source": [
        "Qtd de postos por cidade"
      ],
      "metadata": {
        "id": "OjbmeQQ3awEa"
      }
    },
    {
      "cell_type": "code",
      "source": [
        "word = \"SAO PAULO\"\n",
        "count = combustiveis_df[combustiveis_df[\"Municipio\"].str.contains(word)].shape[0]\n",
        "display(count)\n"
      ],
      "metadata": {
        "id": "Iw89yk_ha0g4"
      },
      "execution_count": null,
      "outputs": []
    },
    {
      "cell_type": "markdown",
      "source": [
        "add base habitantes e trocando nome da coluna"
      ],
      "metadata": {
        "id": "tdaoox8We3y4"
      }
    },
    {
      "cell_type": "code",
      "source": [
        "num_habitantes_df = pd.read_csv(\"ibge_num_habitantes_estimado.csv\",sep=\";\")\n",
        "num_habitantes_df.rename(columns={\"Estado\":\"Estado - Sigla\"}, inplace = True)\n",
        "display(num_habitantes_df)"
      ],
      "metadata": {
        "id": "xoZ6GVsNdGYq"
      },
      "execution_count": null,
      "outputs": []
    },
    {
      "cell_type": "markdown",
      "source": [
        "juntar duas bases"
      ],
      "metadata": {
        "id": "kKVnL1AhgafJ"
      }
    },
    {
      "cell_type": "code",
      "source": [
        "colunas = ['Municipio', 'Estado - Sigla']\n",
        "merge_df = combustiveis_df.merge(num_habitantes_df, how=\"inner\", on=colunas)\n",
        "display(merge_df)\n",
        "print(merge_df.info())"
      ],
      "metadata": {
        "id": "e4yMOUy8gdzC"
      },
      "execution_count": null,
      "outputs": []
    },
    {
      "cell_type": "markdown",
      "source": [
        "Remover duplicadas "
      ],
      "metadata": {
        "id": "fL8wXWxOnOuS"
      }
    },
    {
      "cell_type": "code",
      "source": [
        "merge_df.drop_duplicates(inplace=True)\n",
        "display(merge_df.head(100))"
      ],
      "metadata": {
        "id": "q8d20Jmj25qx"
      },
      "execution_count": null,
      "outputs": []
    },
    {
      "cell_type": "markdown",
      "source": [
        "habitantes acima e abaixo da média"
      ],
      "metadata": {
        "id": "-ZWHLyS1L1gF"
      }
    },
    {
      "cell_type": "code",
      "source": [
        "merge_df['Status Habitantes'] = np.where(merge_df['NumHabitantes2021'] > 500000, 'Acima da População','Abaixo da População')\n",
        "display(merge_df[['Status Habitantes','Estado - Sigla','Municipio', 'NumHabitantes2021']])"
      ],
      "metadata": {
        "id": "BxdQzg71nPU7"
      },
      "execution_count": null,
      "outputs": []
    },
    {
      "cell_type": "markdown",
      "source": [
        "Agrupar e contar quantos postos tem na cidade"
      ],
      "metadata": {
        "id": "Ds5GFU6aMtn2"
      }
    },
    {
      "cell_type": "code",
      "source": [
        "postos_por_municipio_df = merge_df.groupby(by=['Estado - Sigla', 'Municipio', 'NumHabitantes2021']).count()\n",
        "postos_por_municipio_df.reset_index(inplace=True)\n",
        "\n",
        "postos_por_municipio_df.drop('CNPJ da Revenda', axis=1, inplace=True)\n",
        "postos_por_municipio_df.rename(columns={\"Revenda\": \"NumPostos\"}, inplace=True)\n",
        "\n",
        "postos_por_municipio_df['PostosPorHabitante'] = postos_por_municipio_df['NumPostos'] / postos_por_municipio_df['NumHabitantes2021']\n",
        "display(postos_por_municipio_df.info())\n",
        "display(postos_por_municipio_df)"
      ],
      "metadata": {
        "id": "zHDLhtBELo9m"
      },
      "execution_count": null,
      "outputs": []
    },
    {
      "cell_type": "markdown",
      "source": [
        "Primeiro Gráfico"
      ],
      "metadata": {
        "id": "AdBg6gAKg_9M"
      }
    },
    {
      "cell_type": "code",
      "source": [
        "import matplotlib.pyplot as plt\n",
        "\n",
        "plt.hist(combustiveis_df['Valor de Venda'])\n",
        "#Vamos colocar um título no gráfico\n",
        "plt.title(\"Preço dos combustíveis - Nov/2021\")\n",
        "#Rótulo horizontal e vertical\n",
        "plt.xlabel(\"Preço (em reais)\")\n",
        "plt.ylabel(\"Quantidade de Coletas\")\n",
        "\n",
        "#Traça a linha vermelha tracejada com o preço médio\n",
        "plt.axvline(combustiveis_df['Valor de Venda'].mean(), color='red', linestyle='dashed', linewidth=5)\n",
        "\n",
        "\n",
        "#\"Plota\" o gráfico\n",
        "plt.show()"
      ],
      "metadata": {
        "id": "_YZ20dPohBFY"
      },
      "execution_count": null,
      "outputs": []
    },
    {
      "cell_type": "markdown",
      "source": [
        "Consumo médio"
      ],
      "metadata": {
        "id": "C_xX-Ll8hRqp"
      }
    },
    {
      "cell_type": "code",
      "source": [
        "c_mean = combustiveis_df['Valor de Venda'].groupby(by=combustiveis_df['Produto']).mean()\n",
        "display(c_mean)"
      ],
      "metadata": {
        "id": "RXfsibfWhTYC"
      },
      "execution_count": null,
      "outputs": []
    },
    {
      "cell_type": "markdown",
      "source": [
        "Segundo Gráfico"
      ],
      "metadata": {
        "id": "g_7O8OSuh1D5"
      }
    },
    {
      "cell_type": "code",
      "source": [
        "import seaborn as sns\n",
        "\n",
        "#Vou definir a área do gráfico\n",
        "plt.figure(figsize=(15,7))\n",
        "\n",
        "#Plotar o gráfico\n",
        "c_mean.plot(\n",
        "    kind=\"barh\",\n",
        "    xlabel=\"Tipo de Combustível\",\n",
        "    ylabel=\"Preço reais/litro\",\n",
        "    title=\"Média de preços por combustível\",\n",
        "    color=\"red\",\n",
        "    alpha=0.3\n",
        ")\n",
        "\n",
        "#Grid\n",
        "plt.grid()\n",
        "\n",
        "#Remover as linhas superior e lateral direita do gráfico \n",
        "sns.despine()\n",
        "\n",
        "#Exibe\n",
        "plt.show()\n"
      ],
      "metadata": {
        "id": "-c0jsx1-h0h0"
      },
      "execution_count": null,
      "outputs": []
    },
    {
      "cell_type": "markdown",
      "source": [
        "Consumo médio"
      ],
      "metadata": {
        "id": "2X2DEzKeh4Nz"
      }
    },
    {
      "cell_type": "code",
      "source": [
        "display(c_mean)\n",
        "\n",
        "excel = \"por_litro.xlsx\"\n",
        "c_mean.to_excel(excel, \"Sumário\")"
      ],
      "metadata": {
        "colab": {
          "base_uri": "https://localhost:8080/",
          "height": 156
        },
        "id": "L0PiO9-thxmv",
        "outputId": "c1466793-a647-4de7-ec87-fafb4f0a9e56"
      },
      "execution_count": 19,
      "outputs": [
        {
          "output_type": "display_data",
          "data": {
            "text/plain": [
              "Produto\n",
              "DIESEL                5.375682\n",
              "DIESEL S10            5.454901\n",
              "ETANOL                5.456115\n",
              "GASOLINA              6.708741\n",
              "GASOLINA ADITIVADA    6.860422\n",
              "GNV                   4.392935\n",
              "Name: Valor de Venda, dtype: float64"
            ]
          },
          "metadata": {}
        }
      ]
    }
  ]
}