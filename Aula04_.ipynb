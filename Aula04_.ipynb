{
  "nbformat": 4,
  "nbformat_minor": 0,
  "metadata": {
    "colab": {
      "provenance": [],
      "authorship_tag": "ABX9TyP1pRwkD8a4x2KHzuJAS/ae",
      "include_colab_link": true
    },
    "kernelspec": {
      "name": "python3",
      "display_name": "Python 3"
    },
    "language_info": {
      "name": "python"
    }
  },
  "cells": [
    {
      "cell_type": "markdown",
      "metadata": {
        "id": "view-in-github",
        "colab_type": "text"
      },
      "source": [
        "<a href=\"https://colab.research.google.com/github/samuelllopes/AnimaCursoExtensaoAnalisedeDadosPythonPandas-2023-1/blob/main/Aula04_.ipynb\" target=\"_parent\"><img src=\"https://colab.research.google.com/assets/colab-badge.svg\" alt=\"Open In Colab\"/></a>"
      ]
    },
    {
      "cell_type": "code",
      "source": [
        "import pandas as pd\n",
        "\n",
        "combustiveis_df = pd.read_excel(\"ca-2021-02.xlsx\")\n",
        "display(combustiveis_df.head())"
      ],
      "metadata": {
        "id": "CNHI8SrcUOZE"
      },
      "execution_count": null,
      "outputs": []
    },
    {
      "cell_type": "markdown",
      "source": [
        "Inserção simples de dado"
      ],
      "metadata": {
        "id": "9Zde3FxgUWwl"
      }
    },
    {
      "cell_type": "code",
      "source": [
        "combustiveis_df['Ativo'] = True\n",
        "\n",
        "display(combustiveis_df.head())"
      ],
      "metadata": {
        "id": "2J2nDmRJUVbi"
      },
      "execution_count": null,
      "outputs": []
    },
    {
      "cell_type": "markdown",
      "source": [
        "Criando coluna Obs melhor cidade\n"
      ],
      "metadata": {
        "id": "a6mMRvw3UpEv"
      }
    },
    {
      "cell_type": "code",
      "source": [
        "combustiveis_df['Obs'] = [\"MELHOR CIDADE\" if municipio == 'SAO PAULO' else None for municipio in combustiveis_df['Municipio']]\n",
        "display(combustiveis_df.loc[combustiveis_df['Municipio'].isin(['SAO PAULO','INDAIATUBA', 'CAMPINAS', 'SALTO']), ['Municipio', 'Obs']])"
      ],
      "metadata": {
        "id": "JKKMTeaQUlI7"
      },
      "execution_count": null,
      "outputs": []
    },
    {
      "cell_type": "markdown",
      "source": [
        "Preenchimento de coluna com acima da média e abaixo"
      ],
      "metadata": {
        "id": "eK6z5TjLY0f_"
      }
    },
    {
      "cell_type": "code",
      "source": [
        "import numpy as np\n",
        "\n",
        "combustiveis_df['Valor de Venda - Status'] = np.where(combustiveis_df['Valor de Venda'] > 6.0, 'Acima da Média','Abaixo da Média')\n",
        "display(combustiveis_df[['Valor de Venda - Status','Revenda','Valor de Venda']])"
      ],
      "metadata": {
        "id": "WU0J5ZCSW-XM"
      },
      "execution_count": null,
      "outputs": []
    },
    {
      "cell_type": "markdown",
      "source": [
        "Qtd de postos por cidade"
      ],
      "metadata": {
        "id": "OjbmeQQ3awEa"
      }
    },
    {
      "cell_type": "code",
      "source": [
        "word = \"SAO PAULO\"\n",
        "count = combustiveis_df[combustiveis_df[\"Municipio\"].str.contains(word)].shape[0]\n",
        "display(count)\n"
      ],
      "metadata": {
        "id": "Iw89yk_ha0g4"
      },
      "execution_count": null,
      "outputs": []
    },
    {
      "cell_type": "markdown",
      "source": [
        "add base habitantes e trocando nome da coluna"
      ],
      "metadata": {
        "id": "tdaoox8We3y4"
      }
    },
    {
      "cell_type": "code",
      "source": [
        "num_habitantes_df = pd.read_csv(\"ibge_num_habitantes_estimado.csv\",sep=\";\")\n",
        "num_habitantes_df.rename(columns={\"Estado\":\"Estado - Sigla\"}, inplace = True)\n",
        "display(num_habitantes_df)"
      ],
      "metadata": {
        "id": "xoZ6GVsNdGYq"
      },
      "execution_count": null,
      "outputs": []
    },
    {
      "cell_type": "markdown",
      "source": [
        "juntar duas bases"
      ],
      "metadata": {
        "id": "kKVnL1AhgafJ"
      }
    },
    {
      "cell_type": "code",
      "source": [
        "combustiveis_df.merge(num_habitantes_df)"
      ],
      "metadata": {
        "id": "e4yMOUy8gdzC"
      },
      "execution_count": null,
      "outputs": []
    }
  ]
}