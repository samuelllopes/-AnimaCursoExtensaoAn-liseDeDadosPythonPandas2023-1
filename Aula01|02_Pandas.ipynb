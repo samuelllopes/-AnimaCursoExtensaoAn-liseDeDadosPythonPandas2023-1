{
  "nbformat": 4,
  "nbformat_minor": 0,
  "metadata": {
    "colab": {
      "provenance": [],
      "authorship_tag": "ABX9TyPa/oOBO5o6CvYpUN1BLVr4",
      "include_colab_link": true
    },
    "kernelspec": {
      "name": "python3",
      "display_name": "Python 3"
    },
    "language_info": {
      "name": "python"
    }
  },
  "cells": [
    {
      "cell_type": "markdown",
      "metadata": {
        "id": "view-in-github",
        "colab_type": "text"
      },
      "source": [
        "<a href=\"https://colab.research.google.com/github/samuelllopes/AnimaCursoExtensaoAnalisedeDadosPythonPandas-2023-1/blob/main/Aula01%7C02_Pandas.ipynb\" target=\"_parent\"><img src=\"https://colab.research.google.com/assets/colab-badge.svg\" alt=\"Open In Colab\"/></a>"
      ]
    },
    {
      "cell_type": "markdown",
      "source": [
        "Primeira Aula de Análise de Dados com Python Pandas | 07/02/2023"
      ],
      "metadata": {
        "id": "hFQgfearUtEU"
      }
    },
    {
      "cell_type": "code",
      "source": [
        "import pandas as pd\n",
        "\n",
        "combustiveis_df = pd.read_excel(\"ca-2021-02.xlsx\")"
      ],
      "metadata": {
        "id": "FPZUILykUjID"
      },
      "execution_count": 4,
      "outputs": []
    },
    {
      "cell_type": "markdown",
      "source": [],
      "metadata": {
        "id": "5cExK37IUhwU"
      }
    }
  ]
}