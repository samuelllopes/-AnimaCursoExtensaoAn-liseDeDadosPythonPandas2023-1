{
  "nbformat": 4,
  "nbformat_minor": 0,
  "metadata": {
    "colab": {
      "provenance": [],
      "authorship_tag": "ABX9TyOWyYZbIVcZhkjJQqqaG/RB",
      "include_colab_link": true
    },
    "kernelspec": {
      "name": "python3",
      "display_name": "Python 3"
    },
    "language_info": {
      "name": "python"
    }
  },
  "cells": [
    {
      "cell_type": "markdown",
      "metadata": {
        "id": "view-in-github",
        "colab_type": "text"
      },
      "source": [
        "<a href=\"https://colab.research.google.com/github/samuelllopes/AnimaCursoExtensaoAnalisedeDadosPythonPandas-2023-1/blob/main/Aula01%7C02_Pandas.ipynb\" target=\"_parent\"><img src=\"https://colab.research.google.com/assets/colab-badge.svg\" alt=\"Open In Colab\"/></a>"
      ]
    },
    {
      "cell_type": "markdown",
      "source": [
        "Primeira|Segunda Aula de Análise de Dados com Python Pandas - 06/02/2023 & 07/02/2023"
      ],
      "metadata": {
        "id": "hFQgfearUtEU"
      }
    },
    {
      "cell_type": "code",
      "source": [
        "import pandas as pd\n",
        "\n",
        "combustiveis_df = pd.read_excel(\"ca-2021-02.xlsx\")"
      ],
      "metadata": {
        "id": "FPZUILykUjID"
      },
      "execution_count": 3,
      "outputs": []
    },
    {
      "cell_type": "code",
      "source": [
        "display(combustiveis_df)"
      ],
      "metadata": {
        "id": "SEuuOcjNBBhZ"
      },
      "execution_count": null,
      "outputs": []
    },
    {
      "cell_type": "markdown",
      "source": [
        "mostrar quantidade de colunas"
      ],
      "metadata": {
        "id": "8NLn5eRZQrqM"
      }
    },
    {
      "cell_type": "code",
      "source": [
        "display(combustiveis_df.head(25))"
      ],
      "metadata": {
        "id": "eYoLKSLZBv2T"
      },
      "execution_count": null,
      "outputs": []
    },
    {
      "cell_type": "markdown",
      "source": [
        "Informação de colunas x linhas"
      ],
      "metadata": {
        "id": "MQNQRCxzQyQZ"
      }
    },
    {
      "cell_type": "code",
      "source": [
        "display(combustiveis_df.shape)"
      ],
      "metadata": {
        "id": "HzLzpQMDC1WR"
      },
      "execution_count": null,
      "outputs": []
    },
    {
      "cell_type": "markdown",
      "source": [
        "info do dataframe"
      ],
      "metadata": {
        "id": "Io0UHTk7QlwZ"
      }
    },
    {
      "cell_type": "code",
      "source": [
        "display(combustiveis_df.info())"
      ],
      "metadata": {
        "id": "v2MUdfjnN1jh"
      },
      "execution_count": null,
      "outputs": []
    },
    {
      "cell_type": "markdown",
      "source": [
        "Min descrição dos valores"
      ],
      "metadata": {
        "id": "2J3XelLqQjpI"
      }
    },
    {
      "cell_type": "code",
      "source": [
        "display(combustiveis_df.describe())"
      ],
      "metadata": {
        "id": "hPP2Hp1tDOAp"
      },
      "execution_count": null,
      "outputs": []
    },
    {
      "cell_type": "markdown",
      "source": [
        "Mostrar apenas uma coluna "
      ],
      "metadata": {
        "id": "STIw0zWJQc99"
      }
    },
    {
      "cell_type": "code",
      "source": [
        "revenda = combustiveis_df['Revenda']\n",
        "display(revenda)"
      ],
      "metadata": {
        "id": "ATMKtzvLGjp0"
      },
      "execution_count": null,
      "outputs": []
    },
    {
      "cell_type": "markdown",
      "source": [
        "Filtrar apenas colunas"
      ],
      "metadata": {
        "id": "HFzcouGpQa2L"
      }
    },
    {
      "cell_type": "code",
      "source": [
        "prod_df = combustiveis_df[['Revenda' , 'Municipio' , 'Produto' , 'Valor de Venda']]\n",
        "display(prod_df)"
      ],
      "metadata": {
        "id": "lMWOiVMDJV2I"
      },
      "execution_count": null,
      "outputs": []
    },
    {
      "cell_type": "markdown",
      "source": [
        "motrar só linhas 1380:1400"
      ],
      "metadata": {
        "id": "ocGvYpvwQYOu"
      }
    },
    {
      "cell_type": "code",
      "source": [
        "display(prod_df.loc[1380:1400])"
      ],
      "metadata": {
        "id": "38iXVoNObvtN"
      },
      "execution_count": null,
      "outputs": []
    },
    {
      "cell_type": "markdown",
      "source": [
        "filtrar 1:100 linhas por gasolina"
      ],
      "metadata": {
        "id": "0v-sX2jDQUJk"
      }
    },
    {
      "cell_type": "code",
      "source": [
        "gas_df = prod_df.loc[1:100][prod_df['Produto'] == 'GASOLINA']\n",
        "display(gas_df)"
      ],
      "metadata": {
        "id": "cgQljgYWekol"
      },
      "execution_count": null,
      "outputs": []
    },
    {
      "cell_type": "markdown",
      "source": [
        "Valor max de valor de venda"
      ],
      "metadata": {
        "id": "hH2LmFx0QQsz"
      }
    },
    {
      "cell_type": "code",
      "source": [
        "display(gas_df[['Revenda' , 'Municipio' , 'Valor de Venda']].max())"
      ],
      "metadata": {
        "id": "5BZeDGeRgkSY"
      },
      "execution_count": null,
      "outputs": []
    },
    {
      "cell_type": "markdown",
      "source": [
        "Filtrando Venda por municipio indaiatuba"
      ],
      "metadata": {
        "id": "-Alc4yHNQNro"
      }
    },
    {
      "cell_type": "code",
      "source": [
        "et_indaiatuba_df = prod_df.loc[(prod_df['Produto'] == 'ETANOL') & (prod_df['Municipio'] == 'INDAIATUBA')]\n",
        "display(et_indaiatuba_df.sort_values(by='Valor de Venda'))"
      ],
      "metadata": {
        "id": "BSToyLX4JR8N"
      },
      "execution_count": null,
      "outputs": []
    },
    {
      "cell_type": "markdown",
      "source": [
        "Média de preço combustiveis - Bela Vista"
      ],
      "metadata": {
        "id": "D_JpbHDHQI_a"
      }
    },
    {
      "cell_type": "code",
      "source": [
        "combustiveis_df.loc[(combustiveis_df['Bairro'] == 'MOOCA') & (combustiveis_df['Municipio'] == 'SAO PAULO')]"
      ],
      "metadata": {
        "colab": {
          "base_uri": "https://localhost:8080/",
          "height": 763
        },
        "id": "O0HBBe_HPoBM",
        "outputId": "0c6e0a0f-9480-4365-da72-972ba32a6d98"
      },
      "execution_count": 51,
      "outputs": [
        {
          "output_type": "execute_result",
          "data": {
            "text/plain": [
              "       Regiao - Sigla Estado - Sigla  Municipio  \\\n",
              "11588              SE             SP  SAO PAULO   \n",
              "11589              SE             SP  SAO PAULO   \n",
              "11590              SE             SP  SAO PAULO   \n",
              "11591              SE             SP  SAO PAULO   \n",
              "11646              SE             SP  SAO PAULO   \n",
              "...               ...            ...        ...   \n",
              "140718             SE             SP  SAO PAULO   \n",
              "140719             SE             SP  SAO PAULO   \n",
              "140720             SE             SP  SAO PAULO   \n",
              "142000             SE             SP  SAO PAULO   \n",
              "142001             SE             SP  SAO PAULO   \n",
              "\n",
              "                                    Revenda      CNPJ da Revenda  \\\n",
              "11588                   AUTO POSTO LIK LTDA   05.335.456/0001-26   \n",
              "11589                   AUTO POSTO LIK LTDA   05.335.456/0001-26   \n",
              "11590                   AUTO POSTO LIK LTDA   05.335.456/0001-26   \n",
              "11591                   AUTO POSTO LIK LTDA   05.335.456/0001-26   \n",
              "11646               AUTO POSTO PANTERA LTDA   43.592.567/0001-07   \n",
              "...                                     ...                  ...   \n",
              "140718   POSTO DE SERVICOS NOVA MOOCA LTDA.   09.300.378/0001-85   \n",
              "140719   POSTO DE SERVICOS NOVA MOOCA LTDA.   09.300.378/0001-85   \n",
              "140720   POSTO DE SERVICOS NOVA MOOCA LTDA.   09.300.378/0001-85   \n",
              "142000  NOVO BRILHO CENTRO AUTOMOTIVO  LTDA   22.646.410/0001-47   \n",
              "142001  NOVO BRILHO CENTRO AUTOMOTIVO  LTDA   22.646.410/0001-47   \n",
              "\n",
              "                   Nome da Rua Numero Rua Complemento Bairro        Cep  \\\n",
              "11588      RUA FERNANDO FALCAO        537         NaN  MOOCA  03180-001   \n",
              "11589      RUA FERNANDO FALCAO        537         NaN  MOOCA  03180-001   \n",
              "11590      RUA FERNANDO FALCAO        537         NaN  MOOCA  03180-001   \n",
              "11591      RUA FERNANDO FALCAO        537         NaN  MOOCA  03180-001   \n",
              "11646       AVENIDA CASSANDOCA        930         NaN  MOOCA  03169-010   \n",
              "...                        ...        ...         ...    ...        ...   \n",
              "140718      RUA TOBIAS BARRETO        451         NaN  MOOCA  03176-000   \n",
              "140719      RUA TOBIAS BARRETO        451         NaN  MOOCA  03176-000   \n",
              "140720      RUA TOBIAS BARRETO        451         NaN  MOOCA  03176-000   \n",
              "142000  AVENIDA PAES DE BARROS       1999     TERREO;  MOOCA  03115-001   \n",
              "142001  AVENIDA PAES DE BARROS       1999     TERREO;  MOOCA  03115-001   \n",
              "\n",
              "                   Produto Data da Coleta  Valor de Venda  Valor de Compra  \\\n",
              "11588               DIESEL     2021-11-03           4.949              NaN   \n",
              "11589           DIESEL S10     2021-11-03           4.999              NaN   \n",
              "11590             GASOLINA     2021-11-03           5.999              NaN   \n",
              "11591               ETANOL     2021-11-03           4.779              NaN   \n",
              "11646   GASOLINA ADITIVADA     2021-11-03           6.199              NaN   \n",
              "...                    ...            ...             ...              ...   \n",
              "140718  GASOLINA ADITIVADA     2021-12-21           6.699              NaN   \n",
              "140719              ETANOL     2021-12-21           4.999              NaN   \n",
              "140720            GASOLINA     2021-12-21           6.499              NaN   \n",
              "142000              ETANOL     2021-12-21           4.599              NaN   \n",
              "142001            GASOLINA     2021-12-21           6.199              NaN   \n",
              "\n",
              "       Unidade de Medida  Bandeira  \n",
              "11588         R$ / litro  IPIRANGA  \n",
              "11589         R$ / litro  IPIRANGA  \n",
              "11590         R$ / litro  IPIRANGA  \n",
              "11591         R$ / litro  IPIRANGA  \n",
              "11646         R$ / litro    BRANCA  \n",
              "...                  ...       ...  \n",
              "140718        R$ / litro    BRANCA  \n",
              "140719        R$ / litro    BRANCA  \n",
              "140720        R$ / litro    BRANCA  \n",
              "142000        R$ / litro    BRANCA  \n",
              "142001        R$ / litro    BRANCA  \n",
              "\n",
              "[95 rows x 16 columns]"
            ],
            "text/html": [
              "\n",
              "  <div id=\"df-0b64d95a-0bc9-4810-acba-578b9421ef35\">\n",
              "    <div class=\"colab-df-container\">\n",
              "      <div>\n",
              "<style scoped>\n",
              "    .dataframe tbody tr th:only-of-type {\n",
              "        vertical-align: middle;\n",
              "    }\n",
              "\n",
              "    .dataframe tbody tr th {\n",
              "        vertical-align: top;\n",
              "    }\n",
              "\n",
              "    .dataframe thead th {\n",
              "        text-align: right;\n",
              "    }\n",
              "</style>\n",
              "<table border=\"1\" class=\"dataframe\">\n",
              "  <thead>\n",
              "    <tr style=\"text-align: right;\">\n",
              "      <th></th>\n",
              "      <th>Regiao - Sigla</th>\n",
              "      <th>Estado - Sigla</th>\n",
              "      <th>Municipio</th>\n",
              "      <th>Revenda</th>\n",
              "      <th>CNPJ da Revenda</th>\n",
              "      <th>Nome da Rua</th>\n",
              "      <th>Numero Rua</th>\n",
              "      <th>Complemento</th>\n",
              "      <th>Bairro</th>\n",
              "      <th>Cep</th>\n",
              "      <th>Produto</th>\n",
              "      <th>Data da Coleta</th>\n",
              "      <th>Valor de Venda</th>\n",
              "      <th>Valor de Compra</th>\n",
              "      <th>Unidade de Medida</th>\n",
              "      <th>Bandeira</th>\n",
              "    </tr>\n",
              "  </thead>\n",
              "  <tbody>\n",
              "    <tr>\n",
              "      <th>11588</th>\n",
              "      <td>SE</td>\n",
              "      <td>SP</td>\n",
              "      <td>SAO PAULO</td>\n",
              "      <td>AUTO POSTO LIK LTDA</td>\n",
              "      <td>05.335.456/0001-26</td>\n",
              "      <td>RUA FERNANDO FALCAO</td>\n",
              "      <td>537</td>\n",
              "      <td>NaN</td>\n",
              "      <td>MOOCA</td>\n",
              "      <td>03180-001</td>\n",
              "      <td>DIESEL</td>\n",
              "      <td>2021-11-03</td>\n",
              "      <td>4.949</td>\n",
              "      <td>NaN</td>\n",
              "      <td>R$ / litro</td>\n",
              "      <td>IPIRANGA</td>\n",
              "    </tr>\n",
              "    <tr>\n",
              "      <th>11589</th>\n",
              "      <td>SE</td>\n",
              "      <td>SP</td>\n",
              "      <td>SAO PAULO</td>\n",
              "      <td>AUTO POSTO LIK LTDA</td>\n",
              "      <td>05.335.456/0001-26</td>\n",
              "      <td>RUA FERNANDO FALCAO</td>\n",
              "      <td>537</td>\n",
              "      <td>NaN</td>\n",
              "      <td>MOOCA</td>\n",
              "      <td>03180-001</td>\n",
              "      <td>DIESEL S10</td>\n",
              "      <td>2021-11-03</td>\n",
              "      <td>4.999</td>\n",
              "      <td>NaN</td>\n",
              "      <td>R$ / litro</td>\n",
              "      <td>IPIRANGA</td>\n",
              "    </tr>\n",
              "    <tr>\n",
              "      <th>11590</th>\n",
              "      <td>SE</td>\n",
              "      <td>SP</td>\n",
              "      <td>SAO PAULO</td>\n",
              "      <td>AUTO POSTO LIK LTDA</td>\n",
              "      <td>05.335.456/0001-26</td>\n",
              "      <td>RUA FERNANDO FALCAO</td>\n",
              "      <td>537</td>\n",
              "      <td>NaN</td>\n",
              "      <td>MOOCA</td>\n",
              "      <td>03180-001</td>\n",
              "      <td>GASOLINA</td>\n",
              "      <td>2021-11-03</td>\n",
              "      <td>5.999</td>\n",
              "      <td>NaN</td>\n",
              "      <td>R$ / litro</td>\n",
              "      <td>IPIRANGA</td>\n",
              "    </tr>\n",
              "    <tr>\n",
              "      <th>11591</th>\n",
              "      <td>SE</td>\n",
              "      <td>SP</td>\n",
              "      <td>SAO PAULO</td>\n",
              "      <td>AUTO POSTO LIK LTDA</td>\n",
              "      <td>05.335.456/0001-26</td>\n",
              "      <td>RUA FERNANDO FALCAO</td>\n",
              "      <td>537</td>\n",
              "      <td>NaN</td>\n",
              "      <td>MOOCA</td>\n",
              "      <td>03180-001</td>\n",
              "      <td>ETANOL</td>\n",
              "      <td>2021-11-03</td>\n",
              "      <td>4.779</td>\n",
              "      <td>NaN</td>\n",
              "      <td>R$ / litro</td>\n",
              "      <td>IPIRANGA</td>\n",
              "    </tr>\n",
              "    <tr>\n",
              "      <th>11646</th>\n",
              "      <td>SE</td>\n",
              "      <td>SP</td>\n",
              "      <td>SAO PAULO</td>\n",
              "      <td>AUTO POSTO PANTERA LTDA</td>\n",
              "      <td>43.592.567/0001-07</td>\n",
              "      <td>AVENIDA CASSANDOCA</td>\n",
              "      <td>930</td>\n",
              "      <td>NaN</td>\n",
              "      <td>MOOCA</td>\n",
              "      <td>03169-010</td>\n",
              "      <td>GASOLINA ADITIVADA</td>\n",
              "      <td>2021-11-03</td>\n",
              "      <td>6.199</td>\n",
              "      <td>NaN</td>\n",
              "      <td>R$ / litro</td>\n",
              "      <td>BRANCA</td>\n",
              "    </tr>\n",
              "    <tr>\n",
              "      <th>...</th>\n",
              "      <td>...</td>\n",
              "      <td>...</td>\n",
              "      <td>...</td>\n",
              "      <td>...</td>\n",
              "      <td>...</td>\n",
              "      <td>...</td>\n",
              "      <td>...</td>\n",
              "      <td>...</td>\n",
              "      <td>...</td>\n",
              "      <td>...</td>\n",
              "      <td>...</td>\n",
              "      <td>...</td>\n",
              "      <td>...</td>\n",
              "      <td>...</td>\n",
              "      <td>...</td>\n",
              "      <td>...</td>\n",
              "    </tr>\n",
              "    <tr>\n",
              "      <th>140718</th>\n",
              "      <td>SE</td>\n",
              "      <td>SP</td>\n",
              "      <td>SAO PAULO</td>\n",
              "      <td>POSTO DE SERVICOS NOVA MOOCA LTDA.</td>\n",
              "      <td>09.300.378/0001-85</td>\n",
              "      <td>RUA TOBIAS BARRETO</td>\n",
              "      <td>451</td>\n",
              "      <td>NaN</td>\n",
              "      <td>MOOCA</td>\n",
              "      <td>03176-000</td>\n",
              "      <td>GASOLINA ADITIVADA</td>\n",
              "      <td>2021-12-21</td>\n",
              "      <td>6.699</td>\n",
              "      <td>NaN</td>\n",
              "      <td>R$ / litro</td>\n",
              "      <td>BRANCA</td>\n",
              "    </tr>\n",
              "    <tr>\n",
              "      <th>140719</th>\n",
              "      <td>SE</td>\n",
              "      <td>SP</td>\n",
              "      <td>SAO PAULO</td>\n",
              "      <td>POSTO DE SERVICOS NOVA MOOCA LTDA.</td>\n",
              "      <td>09.300.378/0001-85</td>\n",
              "      <td>RUA TOBIAS BARRETO</td>\n",
              "      <td>451</td>\n",
              "      <td>NaN</td>\n",
              "      <td>MOOCA</td>\n",
              "      <td>03176-000</td>\n",
              "      <td>ETANOL</td>\n",
              "      <td>2021-12-21</td>\n",
              "      <td>4.999</td>\n",
              "      <td>NaN</td>\n",
              "      <td>R$ / litro</td>\n",
              "      <td>BRANCA</td>\n",
              "    </tr>\n",
              "    <tr>\n",
              "      <th>140720</th>\n",
              "      <td>SE</td>\n",
              "      <td>SP</td>\n",
              "      <td>SAO PAULO</td>\n",
              "      <td>POSTO DE SERVICOS NOVA MOOCA LTDA.</td>\n",
              "      <td>09.300.378/0001-85</td>\n",
              "      <td>RUA TOBIAS BARRETO</td>\n",
              "      <td>451</td>\n",
              "      <td>NaN</td>\n",
              "      <td>MOOCA</td>\n",
              "      <td>03176-000</td>\n",
              "      <td>GASOLINA</td>\n",
              "      <td>2021-12-21</td>\n",
              "      <td>6.499</td>\n",
              "      <td>NaN</td>\n",
              "      <td>R$ / litro</td>\n",
              "      <td>BRANCA</td>\n",
              "    </tr>\n",
              "    <tr>\n",
              "      <th>142000</th>\n",
              "      <td>SE</td>\n",
              "      <td>SP</td>\n",
              "      <td>SAO PAULO</td>\n",
              "      <td>NOVO BRILHO CENTRO AUTOMOTIVO  LTDA</td>\n",
              "      <td>22.646.410/0001-47</td>\n",
              "      <td>AVENIDA PAES DE BARROS</td>\n",
              "      <td>1999</td>\n",
              "      <td>TERREO;</td>\n",
              "      <td>MOOCA</td>\n",
              "      <td>03115-001</td>\n",
              "      <td>ETANOL</td>\n",
              "      <td>2021-12-21</td>\n",
              "      <td>4.599</td>\n",
              "      <td>NaN</td>\n",
              "      <td>R$ / litro</td>\n",
              "      <td>BRANCA</td>\n",
              "    </tr>\n",
              "    <tr>\n",
              "      <th>142001</th>\n",
              "      <td>SE</td>\n",
              "      <td>SP</td>\n",
              "      <td>SAO PAULO</td>\n",
              "      <td>NOVO BRILHO CENTRO AUTOMOTIVO  LTDA</td>\n",
              "      <td>22.646.410/0001-47</td>\n",
              "      <td>AVENIDA PAES DE BARROS</td>\n",
              "      <td>1999</td>\n",
              "      <td>TERREO;</td>\n",
              "      <td>MOOCA</td>\n",
              "      <td>03115-001</td>\n",
              "      <td>GASOLINA</td>\n",
              "      <td>2021-12-21</td>\n",
              "      <td>6.199</td>\n",
              "      <td>NaN</td>\n",
              "      <td>R$ / litro</td>\n",
              "      <td>BRANCA</td>\n",
              "    </tr>\n",
              "  </tbody>\n",
              "</table>\n",
              "<p>95 rows × 16 columns</p>\n",
              "</div>\n",
              "      <button class=\"colab-df-convert\" onclick=\"convertToInteractive('df-0b64d95a-0bc9-4810-acba-578b9421ef35')\"\n",
              "              title=\"Convert this dataframe to an interactive table.\"\n",
              "              style=\"display:none;\">\n",
              "        \n",
              "  <svg xmlns=\"http://www.w3.org/2000/svg\" height=\"24px\"viewBox=\"0 0 24 24\"\n",
              "       width=\"24px\">\n",
              "    <path d=\"M0 0h24v24H0V0z\" fill=\"none\"/>\n",
              "    <path d=\"M18.56 5.44l.94 2.06.94-2.06 2.06-.94-2.06-.94-.94-2.06-.94 2.06-2.06.94zm-11 1L8.5 8.5l.94-2.06 2.06-.94-2.06-.94L8.5 2.5l-.94 2.06-2.06.94zm10 10l.94 2.06.94-2.06 2.06-.94-2.06-.94-.94-2.06-.94 2.06-2.06.94z\"/><path d=\"M17.41 7.96l-1.37-1.37c-.4-.4-.92-.59-1.43-.59-.52 0-1.04.2-1.43.59L10.3 9.45l-7.72 7.72c-.78.78-.78 2.05 0 2.83L4 21.41c.39.39.9.59 1.41.59.51 0 1.02-.2 1.41-.59l7.78-7.78 2.81-2.81c.8-.78.8-2.07 0-2.86zM5.41 20L4 18.59l7.72-7.72 1.47 1.35L5.41 20z\"/>\n",
              "  </svg>\n",
              "      </button>\n",
              "      \n",
              "  <style>\n",
              "    .colab-df-container {\n",
              "      display:flex;\n",
              "      flex-wrap:wrap;\n",
              "      gap: 12px;\n",
              "    }\n",
              "\n",
              "    .colab-df-convert {\n",
              "      background-color: #E8F0FE;\n",
              "      border: none;\n",
              "      border-radius: 50%;\n",
              "      cursor: pointer;\n",
              "      display: none;\n",
              "      fill: #1967D2;\n",
              "      height: 32px;\n",
              "      padding: 0 0 0 0;\n",
              "      width: 32px;\n",
              "    }\n",
              "\n",
              "    .colab-df-convert:hover {\n",
              "      background-color: #E2EBFA;\n",
              "      box-shadow: 0px 1px 2px rgba(60, 64, 67, 0.3), 0px 1px 3px 1px rgba(60, 64, 67, 0.15);\n",
              "      fill: #174EA6;\n",
              "    }\n",
              "\n",
              "    [theme=dark] .colab-df-convert {\n",
              "      background-color: #3B4455;\n",
              "      fill: #D2E3FC;\n",
              "    }\n",
              "\n",
              "    [theme=dark] .colab-df-convert:hover {\n",
              "      background-color: #434B5C;\n",
              "      box-shadow: 0px 1px 3px 1px rgba(0, 0, 0, 0.15);\n",
              "      filter: drop-shadow(0px 1px 2px rgba(0, 0, 0, 0.3));\n",
              "      fill: #FFFFFF;\n",
              "    }\n",
              "  </style>\n",
              "\n",
              "      <script>\n",
              "        const buttonEl =\n",
              "          document.querySelector('#df-0b64d95a-0bc9-4810-acba-578b9421ef35 button.colab-df-convert');\n",
              "        buttonEl.style.display =\n",
              "          google.colab.kernel.accessAllowed ? 'block' : 'none';\n",
              "\n",
              "        async function convertToInteractive(key) {\n",
              "          const element = document.querySelector('#df-0b64d95a-0bc9-4810-acba-578b9421ef35');\n",
              "          const dataTable =\n",
              "            await google.colab.kernel.invokeFunction('convertToInteractive',\n",
              "                                                     [key], {});\n",
              "          if (!dataTable) return;\n",
              "\n",
              "          const docLinkHtml = 'Like what you see? Visit the ' +\n",
              "            '<a target=\"_blank\" href=https://colab.research.google.com/notebooks/data_table.ipynb>data table notebook</a>'\n",
              "            + ' to learn more about interactive tables.';\n",
              "          element.innerHTML = '';\n",
              "          dataTable['output_type'] = 'display_data';\n",
              "          await google.colab.output.renderOutput(dataTable, element);\n",
              "          const docLink = document.createElement('div');\n",
              "          docLink.innerHTML = docLinkHtml;\n",
              "          element.appendChild(docLink);\n",
              "        }\n",
              "      </script>\n",
              "    </div>\n",
              "  </div>\n",
              "  "
            ]
          },
          "metadata": {},
          "execution_count": 51
        }
      ]
    }
  ]
}