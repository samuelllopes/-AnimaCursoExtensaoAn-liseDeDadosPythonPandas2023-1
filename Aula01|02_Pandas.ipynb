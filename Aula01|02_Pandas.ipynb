{
  "nbformat": 4,
  "nbformat_minor": 0,
  "metadata": {
    "colab": {
      "provenance": [],
      "authorship_tag": "ABX9TyMeVP03VDVorKES5gJMoTIj",
      "include_colab_link": true
    },
    "kernelspec": {
      "name": "python3",
      "display_name": "Python 3"
    },
    "language_info": {
      "name": "python"
    }
  },
  "cells": [
    {
      "cell_type": "markdown",
      "metadata": {
        "id": "view-in-github",
        "colab_type": "text"
      },
      "source": [
        "<a href=\"https://colab.research.google.com/github/samuelllopes/AnimaCursoExtensaoAnalisedeDadosPythonPandas-2023-1/blob/main/Aula01%7C02_Pandas.ipynb\" target=\"_parent\"><img src=\"https://colab.research.google.com/assets/colab-badge.svg\" alt=\"Open In Colab\"/></a>"
      ]
    },
    {
      "cell_type": "markdown",
      "source": [
        "Primeira|Segunda Aula de Análise de Dados com Python Pandas - 06/02/2023 & 07/02/2023"
      ],
      "metadata": {
        "id": "hFQgfearUtEU"
      }
    },
    {
      "cell_type": "code",
      "source": [
        "import pandas as pd\n",
        "\n",
        "combustiveis_df = pd.read_excel(\"ca-2021-02.xlsx\")"
      ],
      "metadata": {
        "id": "FPZUILykUjID"
      },
      "execution_count": 3,
      "outputs": []
    },
    {
      "cell_type": "code",
      "source": [
        "display(combustiveis_df)"
      ],
      "metadata": {
        "id": "SEuuOcjNBBhZ"
      },
      "execution_count": null,
      "outputs": []
    },
    {
      "cell_type": "code",
      "source": [
        "display(combustiveis_df.head(25))"
      ],
      "metadata": {
        "id": "eYoLKSLZBv2T"
      },
      "execution_count": null,
      "outputs": []
    },
    {
      "cell_type": "code",
      "source": [
        "display(combustiveis_df.shape)"
      ],
      "metadata": {
        "id": "HzLzpQMDC1WR"
      },
      "execution_count": null,
      "outputs": []
    },
    {
      "cell_type": "code",
      "source": [
        "display(combustiveis_df.info())"
      ],
      "metadata": {
        "id": "v2MUdfjnN1jh"
      },
      "execution_count": null,
      "outputs": []
    },
    {
      "cell_type": "code",
      "source": [
        "display(combustiveis_df.describe())"
      ],
      "metadata": {
        "id": "hPP2Hp1tDOAp"
      },
      "execution_count": null,
      "outputs": []
    },
    {
      "cell_type": "code",
      "source": [
        "revenda = combustiveis_df['Revenda']\n",
        "display(revenda)"
      ],
      "metadata": {
        "id": "ATMKtzvLGjp0"
      },
      "execution_count": null,
      "outputs": []
    },
    {
      "cell_type": "code",
      "source": [
        "prod_df = combustiveis_df[['Revenda' , 'Municipio' , 'Produto' , 'Valor de Venda']]\n",
        "display(prod_df)"
      ],
      "metadata": {
        "id": "lMWOiVMDJV2I"
      },
      "execution_count": null,
      "outputs": []
    },
    {
      "cell_type": "code",
      "source": [
        "display(prod_df.loc[1380:1400])"
      ],
      "metadata": {
        "id": "38iXVoNObvtN"
      },
      "execution_count": null,
      "outputs": []
    },
    {
      "cell_type": "code",
      "source": [
        "gas_df = prod_df.loc[1:100][prod_df['Produto'] == 'GASOLINA']\n",
        "display(gas_df)"
      ],
      "metadata": {
        "id": "cgQljgYWekol"
      },
      "execution_count": null,
      "outputs": []
    },
    {
      "cell_type": "code",
      "source": [
        "display(gas_df[['Revenda' , 'Municipio' , 'Valor de Venda']].max())"
      ],
      "metadata": {
        "id": "5BZeDGeRgkSY"
      },
      "execution_count": null,
      "outputs": []
    },
    {
      "cell_type": "code",
      "source": [
        "et_indaiatuba_df = prod_df.loc[(prod_df['Produto'] == 'ETANOL') & (prod_df['Municipio'] == 'INDAIATUBA')]\n",
        "display(et_indaiatuba_df.sort_values(by='Valor de Venda'))"
      ],
      "metadata": {
        "colab": {
          "base_uri": "https://localhost:8080/",
          "height": 424
        },
        "id": "BSToyLX4JR8N",
        "outputId": "f938dedd-5665-4b57-8942-a4579b877ab6"
      },
      "execution_count": 39,
      "outputs": [
        {
          "output_type": "display_data",
          "data": {
            "text/plain": [
              "                                        Revenda   Municipio Produto  \\\n",
              "160592             AUTO POSTO NAMORADA II LTDA.  INDAIATUBA  ETANOL   \n",
              "140194  CENTRO AUTOMOTIVO RIVIERA TROPICAL LTDA  INDAIATUBA  ETANOL   \n",
              "140661      M.LI COMERCIO DE COMBUSTIVEIS LTDA.  INDAIATUBA  ETANOL   \n",
              "159497      M.LI COMERCIO DE COMBUSTIVEIS LTDA.  INDAIATUBA  ETANOL   \n",
              "141167      AUTO POSTO ESPLANADA DE INDAIA LTDA  INDAIATUBA  ETANOL   \n",
              "...                                         ...         ...     ...   \n",
              "51129          AUTO POSTO CIDADE DO SOL II LTDA  INDAIATUBA  ETANOL   \n",
              "51138              AUTO POSTO NAMORADA II LTDA.  INDAIATUBA  ETANOL   \n",
              "84395              AUTO POSTO NAMORADA II LTDA.  INDAIATUBA  ETANOL   \n",
              "65878          AUTO POSTO CIDADE DO SOL II LTDA  INDAIATUBA  ETANOL   \n",
              "65363             AUTO POSTO INDIANA SELF LTDA.  INDAIATUBA  ETANOL   \n",
              "\n",
              "        Valor de Venda  \n",
              "160592           4.679  \n",
              "140194           4.679  \n",
              "140661           4.699  \n",
              "159497           4.699  \n",
              "141167           4.699  \n",
              "...                ...  \n",
              "51129            5.599  \n",
              "51138            5.599  \n",
              "84395            5.599  \n",
              "65878            5.599  \n",
              "65363            6.197  \n",
              "\n",
              "[143 rows x 4 columns]"
            ],
            "text/html": [
              "\n",
              "  <div id=\"df-41bca966-11fb-421c-a593-e1b7b36cdd1b\">\n",
              "    <div class=\"colab-df-container\">\n",
              "      <div>\n",
              "<style scoped>\n",
              "    .dataframe tbody tr th:only-of-type {\n",
              "        vertical-align: middle;\n",
              "    }\n",
              "\n",
              "    .dataframe tbody tr th {\n",
              "        vertical-align: top;\n",
              "    }\n",
              "\n",
              "    .dataframe thead th {\n",
              "        text-align: right;\n",
              "    }\n",
              "</style>\n",
              "<table border=\"1\" class=\"dataframe\">\n",
              "  <thead>\n",
              "    <tr style=\"text-align: right;\">\n",
              "      <th></th>\n",
              "      <th>Revenda</th>\n",
              "      <th>Municipio</th>\n",
              "      <th>Produto</th>\n",
              "      <th>Valor de Venda</th>\n",
              "    </tr>\n",
              "  </thead>\n",
              "  <tbody>\n",
              "    <tr>\n",
              "      <th>160592</th>\n",
              "      <td>AUTO POSTO NAMORADA II LTDA.</td>\n",
              "      <td>INDAIATUBA</td>\n",
              "      <td>ETANOL</td>\n",
              "      <td>4.679</td>\n",
              "    </tr>\n",
              "    <tr>\n",
              "      <th>140194</th>\n",
              "      <td>CENTRO AUTOMOTIVO RIVIERA TROPICAL LTDA</td>\n",
              "      <td>INDAIATUBA</td>\n",
              "      <td>ETANOL</td>\n",
              "      <td>4.679</td>\n",
              "    </tr>\n",
              "    <tr>\n",
              "      <th>140661</th>\n",
              "      <td>M.LI COMERCIO DE COMBUSTIVEIS LTDA.</td>\n",
              "      <td>INDAIATUBA</td>\n",
              "      <td>ETANOL</td>\n",
              "      <td>4.699</td>\n",
              "    </tr>\n",
              "    <tr>\n",
              "      <th>159497</th>\n",
              "      <td>M.LI COMERCIO DE COMBUSTIVEIS LTDA.</td>\n",
              "      <td>INDAIATUBA</td>\n",
              "      <td>ETANOL</td>\n",
              "      <td>4.699</td>\n",
              "    </tr>\n",
              "    <tr>\n",
              "      <th>141167</th>\n",
              "      <td>AUTO POSTO ESPLANADA DE INDAIA LTDA</td>\n",
              "      <td>INDAIATUBA</td>\n",
              "      <td>ETANOL</td>\n",
              "      <td>4.699</td>\n",
              "    </tr>\n",
              "    <tr>\n",
              "      <th>...</th>\n",
              "      <td>...</td>\n",
              "      <td>...</td>\n",
              "      <td>...</td>\n",
              "      <td>...</td>\n",
              "    </tr>\n",
              "    <tr>\n",
              "      <th>51129</th>\n",
              "      <td>AUTO POSTO CIDADE DO SOL II LTDA</td>\n",
              "      <td>INDAIATUBA</td>\n",
              "      <td>ETANOL</td>\n",
              "      <td>5.599</td>\n",
              "    </tr>\n",
              "    <tr>\n",
              "      <th>51138</th>\n",
              "      <td>AUTO POSTO NAMORADA II LTDA.</td>\n",
              "      <td>INDAIATUBA</td>\n",
              "      <td>ETANOL</td>\n",
              "      <td>5.599</td>\n",
              "    </tr>\n",
              "    <tr>\n",
              "      <th>84395</th>\n",
              "      <td>AUTO POSTO NAMORADA II LTDA.</td>\n",
              "      <td>INDAIATUBA</td>\n",
              "      <td>ETANOL</td>\n",
              "      <td>5.599</td>\n",
              "    </tr>\n",
              "    <tr>\n",
              "      <th>65878</th>\n",
              "      <td>AUTO POSTO CIDADE DO SOL II LTDA</td>\n",
              "      <td>INDAIATUBA</td>\n",
              "      <td>ETANOL</td>\n",
              "      <td>5.599</td>\n",
              "    </tr>\n",
              "    <tr>\n",
              "      <th>65363</th>\n",
              "      <td>AUTO POSTO INDIANA SELF LTDA.</td>\n",
              "      <td>INDAIATUBA</td>\n",
              "      <td>ETANOL</td>\n",
              "      <td>6.197</td>\n",
              "    </tr>\n",
              "  </tbody>\n",
              "</table>\n",
              "<p>143 rows × 4 columns</p>\n",
              "</div>\n",
              "      <button class=\"colab-df-convert\" onclick=\"convertToInteractive('df-41bca966-11fb-421c-a593-e1b7b36cdd1b')\"\n",
              "              title=\"Convert this dataframe to an interactive table.\"\n",
              "              style=\"display:none;\">\n",
              "        \n",
              "  <svg xmlns=\"http://www.w3.org/2000/svg\" height=\"24px\"viewBox=\"0 0 24 24\"\n",
              "       width=\"24px\">\n",
              "    <path d=\"M0 0h24v24H0V0z\" fill=\"none\"/>\n",
              "    <path d=\"M18.56 5.44l.94 2.06.94-2.06 2.06-.94-2.06-.94-.94-2.06-.94 2.06-2.06.94zm-11 1L8.5 8.5l.94-2.06 2.06-.94-2.06-.94L8.5 2.5l-.94 2.06-2.06.94zm10 10l.94 2.06.94-2.06 2.06-.94-2.06-.94-.94-2.06-.94 2.06-2.06.94z\"/><path d=\"M17.41 7.96l-1.37-1.37c-.4-.4-.92-.59-1.43-.59-.52 0-1.04.2-1.43.59L10.3 9.45l-7.72 7.72c-.78.78-.78 2.05 0 2.83L4 21.41c.39.39.9.59 1.41.59.51 0 1.02-.2 1.41-.59l7.78-7.78 2.81-2.81c.8-.78.8-2.07 0-2.86zM5.41 20L4 18.59l7.72-7.72 1.47 1.35L5.41 20z\"/>\n",
              "  </svg>\n",
              "      </button>\n",
              "      \n",
              "  <style>\n",
              "    .colab-df-container {\n",
              "      display:flex;\n",
              "      flex-wrap:wrap;\n",
              "      gap: 12px;\n",
              "    }\n",
              "\n",
              "    .colab-df-convert {\n",
              "      background-color: #E8F0FE;\n",
              "      border: none;\n",
              "      border-radius: 50%;\n",
              "      cursor: pointer;\n",
              "      display: none;\n",
              "      fill: #1967D2;\n",
              "      height: 32px;\n",
              "      padding: 0 0 0 0;\n",
              "      width: 32px;\n",
              "    }\n",
              "\n",
              "    .colab-df-convert:hover {\n",
              "      background-color: #E2EBFA;\n",
              "      box-shadow: 0px 1px 2px rgba(60, 64, 67, 0.3), 0px 1px 3px 1px rgba(60, 64, 67, 0.15);\n",
              "      fill: #174EA6;\n",
              "    }\n",
              "\n",
              "    [theme=dark] .colab-df-convert {\n",
              "      background-color: #3B4455;\n",
              "      fill: #D2E3FC;\n",
              "    }\n",
              "\n",
              "    [theme=dark] .colab-df-convert:hover {\n",
              "      background-color: #434B5C;\n",
              "      box-shadow: 0px 1px 3px 1px rgba(0, 0, 0, 0.15);\n",
              "      filter: drop-shadow(0px 1px 2px rgba(0, 0, 0, 0.3));\n",
              "      fill: #FFFFFF;\n",
              "    }\n",
              "  </style>\n",
              "\n",
              "      <script>\n",
              "        const buttonEl =\n",
              "          document.querySelector('#df-41bca966-11fb-421c-a593-e1b7b36cdd1b button.colab-df-convert');\n",
              "        buttonEl.style.display =\n",
              "          google.colab.kernel.accessAllowed ? 'block' : 'none';\n",
              "\n",
              "        async function convertToInteractive(key) {\n",
              "          const element = document.querySelector('#df-41bca966-11fb-421c-a593-e1b7b36cdd1b');\n",
              "          const dataTable =\n",
              "            await google.colab.kernel.invokeFunction('convertToInteractive',\n",
              "                                                     [key], {});\n",
              "          if (!dataTable) return;\n",
              "\n",
              "          const docLinkHtml = 'Like what you see? Visit the ' +\n",
              "            '<a target=\"_blank\" href=https://colab.research.google.com/notebooks/data_table.ipynb>data table notebook</a>'\n",
              "            + ' to learn more about interactive tables.';\n",
              "          element.innerHTML = '';\n",
              "          dataTable['output_type'] = 'display_data';\n",
              "          await google.colab.output.renderOutput(dataTable, element);\n",
              "          const docLink = document.createElement('div');\n",
              "          docLink.innerHTML = docLinkHtml;\n",
              "          element.appendChild(docLink);\n",
              "        }\n",
              "      </script>\n",
              "    </div>\n",
              "  </div>\n",
              "  "
            ]
          },
          "metadata": {}
        }
      ]
    }
  ]
}